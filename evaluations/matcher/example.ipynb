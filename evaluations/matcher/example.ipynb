{
 "cells": [
  {
   "cell_type": "code",
   "execution_count": 1,
   "metadata": {},
   "outputs": [],
   "source": [
    "file_path = r\"D:\\workSpace\\AI@UNC\\SLAE-initial-testing-dataset\\papers\\CognitiveBiasModificationforInterpretation_10.1177_2167702614560748.txt\"\n",
    "with open(file_path, 'r', encoding = 'utf-8') as file:\n",
    "    file_content = file.read()"
   ]
  },
  {
   "cell_type": "code",
   "execution_count": 2,
   "metadata": {},
   "outputs": [],
   "source": [
    "from embedding import embedding\n",
    "from embedding import embedding_stemmed"
   ]
  },
  {
   "cell_type": "code",
   "execution_count": 3,
   "metadata": {},
   "outputs": [
    {
     "name": "stdout",
     "output_type": "stream",
     "text": [
      "Most similar words to 'cognitive':\n",
      "[('RNT', 0.4016725420951843), ('CBM-I', 0.33004188537597656), ('scenarios', 0.32292041182518005), ('interpretation', 0.30525273084640503), ('online', 0.2977798581123352), ('study', 0.2956341803073883), ('Participants', 0.29226312041282654), ('studies', 0.2877121865749359), ('bias', 0.2819546163082123), ('ratings', 0.27163660526275635)]\n"
     ]
    }
   ],
   "source": [
    "embedding(file_content, 'cognitive')"
   ]
  },
  {
   "cell_type": "code",
   "execution_count": 4,
   "metadata": {},
   "outputs": [
    {
     "name": "stdout",
     "output_type": "stream",
     "text": [
      "Most similar words to 'cognitive', stemmed form:cognit:\n",
      "[('particip', 0.6113157272338867), ('rnt', 0.5935936570167542), ('scenario', 0.5775536298751831), ('interpret', 0.5759269595146179), ('studi', 0.5688917636871338), ('rumin', 0.5595232844352722), ('research', 0.5530697107315063), ('condit', 0.546502947807312), ('bia', 0.5409838557243347), ('task', 0.5396609306335449)]\n"
     ]
    }
   ],
   "source": [
    "embedding_stemmed(file_content, 'cognitive')"
   ]
  },
  {
   "cell_type": "code",
   "execution_count": 7,
   "metadata": {},
   "outputs": [
    {
     "data": {
      "text/plain": [
       "'The score between cognitive and participant is -0.026386162376958674'"
      ]
     },
     "execution_count": 7,
     "metadata": {},
     "output_type": "execute_result"
    }
   ],
   "source": [
    "from embedding import cosine_similarity\n",
    "cosine_similarity(file_content,\"cognitive\",\"participant\")"
   ]
  },
  {
   "cell_type": "code",
   "execution_count": null,
   "metadata": {},
   "outputs": [],
   "source": []
  },
  {
   "cell_type": "code",
   "execution_count": null,
   "metadata": {},
   "outputs": [],
   "source": []
  }
 ],
 "metadata": {
  "kernelspec": {
   "display_name": "Python 3",
   "language": "python",
   "name": "python3"
  },
  "language_info": {
   "codemirror_mode": {
    "name": "ipython",
    "version": 3
   },
   "file_extension": ".py",
   "mimetype": "text/x-python",
   "name": "python",
   "nbconvert_exporter": "python",
   "pygments_lexer": "ipython3",
   "version": "3.11.1"
  }
 },
 "nbformat": 4,
 "nbformat_minor": 2
}
